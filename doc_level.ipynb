{
 "cells": [
  {
   "cell_type": "markdown",
   "metadata": {
    "id": "ju8iwgdOQSAG"
   },
   "source": [
    "# Transformer"
   ]
  },
  {
   "cell_type": "code",
   "execution_count": null,
   "metadata": {
    "id": "V3GedDjKQSAI"
   },
   "outputs": [],
   "source": [
    "import copy\n",
    "from typing import Optional, Any, Union, Callable\n",
    "\n",
    "import torch\n",
    "from torch import Tensor\n",
    "from torch.nn import functional as F, Module, MultiheadAttention, ModuleList, Dropout, Linear, LayerNorm\n",
    "from torch.nn.init import xavier_uniform_"
   ]
  },
  {
   "cell_type": "markdown",
   "metadata": {
    "id": "RMMaxIiMQSAJ"
   },
   "source": [
    "## Context Encoding"
   ]
  },
  {
   "cell_type": "code",
   "execution_count": null,
   "metadata": {
    "id": "jl7qZzTSQSAK"
   },
   "outputs": [],
   "source": [
    "class PositionWiseFeedForward(Module):\n",
    "    def __init__(self, d_model, d_ff, dropout):\n",
    "        super(PositionWiseFeedForward, self).__init__()\n",
    "        self.fc1 = nn.Linear(d_model, d_ff)\n",
    "        self.fc2 = nn.Linear(d_ff, d_model)\n",
    "        self.dropout = nn.Dropout(dropout)\n",
    "        self.relu = nn.ReLU()\n",
    "\n",
    "    def forward(self, x):\n",
    "        return self.fc2(self.dropout(self.relu(self.fc1(x))))"
   ]
  },
  {
   "cell_type": "code",
   "execution_count": null,
   "metadata": {
    "id": "KpbQKKtnQSAM"
   },
   "outputs": [],
   "source": [
    "class ContextEncoderLayer(Module):\n",
    "    def __init__(self, d_model, num_heads, d_ff, dropout):\n",
    "        super(ContextEncoderLayer, self).__init__()\n",
    "        self.self_attn = MultiheadAttention(d_model, num_heads)\n",
    "        self.feed_forward = PositionWiseFeedForward(d_model, d_ff, dropout)\n",
    "        self.norm1 = nn.LayerNorm(d_model)\n",
    "        self.norm2 = nn.LayerNorm(d_model)\n",
    "        self.dropout1 = nn.Dropout(dropout)\n",
    "        self.dropout2 = nn.Dropout(dropout)\n",
    "\n",
    "    def forward(self, x, ctx_key_pending_mask: Optional[Tensor] = None) -> Tensor:\n",
    "        attn_output = self.self_attn(x, x, x, key_padding_mask=ctx_key_pending_mask, need_weights=False)[0]\n",
    "        x = self.norm1(x + self.dropout1(attn_output))\n",
    "\n",
    "        ff_output = self.feed_forward(x)\n",
    "        x = self.norm2(x + self.dropout2(ff_output))\n",
    "\n",
    "        return x"
   ]
  },
  {
   "cell_type": "code",
   "execution_count": null,
   "metadata": {
    "id": "VEHYKarvQSAN"
   },
   "outputs": [],
   "source": [
    "class ContextGating(Module):\n",
    "    def __init__(self, d_model, d_cg):\n",
    "        super(ContextGating, self).__init__()\n",
    "        self.gating1 = nn.Linear(d_model, d_cg, bias=False)\n",
    "        self.gating2 = nn.Linear(d_model, d_cg, bias=False)\n",
    "        self.sigmoid = nn.Sigmoid()\n",
    "\n",
    "    def forward(self, ctx_attn_input, ctx_attn_output):\n",
    "        gate = self.sigmoid(self.gating1(ctx_attn_input) + self.gating2(ctx_attn_output))\n",
    "        return gate * ctx_attn_input + (1 - gate) * ctx_attn_output"
   ]
  },
  {
   "cell_type": "markdown",
   "metadata": {
    "id": "_HR6J67KQSAO"
   },
   "source": [
    "## Utils"
   ]
  },
  {
   "cell_type": "code",
   "execution_count": null,
   "metadata": {
    "id": "bpBXyti9QSAP"
   },
   "outputs": [],
   "source": [
    "def _get_clones(module, N):\n",
    "    return ModuleList([copy.deepcopy(module) for i in range(N)])\n",
    "\n",
    "\n",
    "def _get_activation_fn(activation: str) -> Callable[[Tensor], Tensor]:\n",
    "    if activation == \"relu\":\n",
    "        return F.relu\n",
    "    elif activation == \"gelu\":\n",
    "        return F.gelu\n",
    "\n",
    "    raise RuntimeError(\"activation should be relu/gelu, not {}\".format(activation))"
   ]
  },
  {
   "cell_type": "markdown",
   "metadata": {
    "id": "YaODmzVsQSAQ"
   },
   "source": [
    "## Encoder"
   ]
  },
  {
   "cell_type": "code",
   "execution_count": null,
   "metadata": {
    "id": "s0BLZn6FQSAQ"
   },
   "outputs": [],
   "source": [
    "class TransformerEncoderLayer(Module):\n",
    "    __constants__ = ['batch_first', 'norm_first']\n",
    "\n",
    "    def __init__(self, d_model: int, nhead: int, dim_feedforward: int = 2048, dim_contextgating: int = 512, dropout: float = 0.1,\n",
    "                 activation: Union[str, Callable[[Tensor], Tensor]] = F.relu,\n",
    "                 layer_norm_eps: float = 1e-5, batch_first: bool = False, norm_first: bool = False,\n",
    "                 device=None, dtype=None) -> None:\n",
    "        factory_kwargs = {'device': device, 'dtype': dtype}\n",
    "        super(TransformerEncoderLayer, self).__init__()\n",
    "        self.self_attn = MultiheadAttention(d_model, nhead, dropout=dropout, batch_first=batch_first,\n",
    "                                            **factory_kwargs)\n",
    "        # Implementation of Feedforward model\n",
    "        self.linear1 = Linear(d_model, dim_feedforward, **factory_kwargs)\n",
    "        self.dropout = Dropout(dropout)\n",
    "        self.linear2 = Linear(dim_feedforward, d_model, **factory_kwargs)\n",
    "\n",
    "        self.norm_first = norm_first\n",
    "        self.norm1 = LayerNorm(d_model, eps=layer_norm_eps, **factory_kwargs)\n",
    "        self.norm2 = LayerNorm(d_model, eps=layer_norm_eps, **factory_kwargs)\n",
    "        self.dropout1 = Dropout(dropout)\n",
    "        self.dropout2 = Dropout(dropout)\n",
    "        self.dropout3 = Dropout(dropout)\n",
    "\n",
    "        # Legacy string support for activation function.\n",
    "        if isinstance(activation, str):\n",
    "            activation = _get_activation_fn(activation)\n",
    "\n",
    "        # We can't test self.activation in forward() in TorchScript,\n",
    "        # so stash some information about it instead.\n",
    "        if activation is F.relu:\n",
    "            self.activation_relu_or_gelu = 1\n",
    "        elif activation is F.gelu:\n",
    "            self.activation_relu_or_gelu = 2\n",
    "        else:\n",
    "            self.activation_relu_or_gelu = 0\n",
    "        self.activation = activation\n",
    "\n",
    "        self.context_attention = MultiheadAttention(d_model, nhead, dropout=dropout, batch_first=batch_first,\n",
    "                                                    **factory_kwargs)\n",
    "        self.context_gating = ContextGating(d_model, dim_contextgating)\n",
    "\n",
    "    def __setstate__(self, state):\n",
    "        super(TransformerEncoderLayer, self).__setstate__(state)\n",
    "        if not hasattr(self, 'activation'):\n",
    "            self.activation = F.relu\n",
    "\n",
    "\n",
    "    def forward(self, src: Tensor, ctx_encoding: Tensor, src_mask: Optional[Tensor] = None,\n",
    "                src_key_padding_mask: Optional[Tensor] = None, ctx_key_padding_mask: Optional[Tensor] = None) -> Tensor:\n",
    "        if (src.dim() == 3 and not self.norm_first and not self.training and\n",
    "            self.self_attn.batch_first and\n",
    "            self.self_attn._qkv_same_embed_dim and self.activation_relu_or_gelu and\n",
    "            self.norm1.eps == self.norm2.eps and\n",
    "            src_mask is None and\n",
    "                not (src.is_nested and src_key_padding_mask is not None)):\n",
    "            tensor_args = (\n",
    "                src,\n",
    "                self.self_attn.in_proj_weight,\n",
    "                self.self_attn.in_proj_bias,\n",
    "                self.self_attn.out_proj.weight,\n",
    "                self.self_attn.out_proj.bias,\n",
    "                self.norm1.weight,\n",
    "                self.norm1.bias,\n",
    "                self.norm2.weight,\n",
    "                self.norm2.bias,\n",
    "                self.linear1.weight,\n",
    "                self.linear1.bias,\n",
    "                self.linear2.weight,\n",
    "                self.linear2.bias,\n",
    "            )\n",
    "            if (not torch.overrides.has_torch_function(tensor_args) and\n",
    "                    # We have to use a list comprehension here because TorchScript\n",
    "                    # doesn't support generator expressions.\n",
    "                    all([(x.is_cuda or 'cpu' in str(x.device)) for x in tensor_args]) and\n",
    "                    (not torch.is_grad_enabled() or all([not x.requires_grad for x in tensor_args]))):\n",
    "                return torch._transformer_encoder_layer_fwd(\n",
    "                    src,\n",
    "                    self.self_attn.embed_dim,\n",
    "                    self.self_attn.num_heads,\n",
    "                    self.self_attn.in_proj_weight,\n",
    "                    self.self_attn.in_proj_bias,\n",
    "                    self.self_attn.out_proj.weight,\n",
    "                    self.self_attn.out_proj.bias,\n",
    "                    self.activation_relu_or_gelu == 2,\n",
    "                    False,  # norm_first, currently not supported\n",
    "                    self.norm1.eps,\n",
    "                    self.norm1.weight,\n",
    "                    self.norm1.bias,\n",
    "                    self.norm2.weight,\n",
    "                    self.norm2.bias,\n",
    "                    self.linear1.weight,\n",
    "                    self.linear1.bias,\n",
    "                    self.linear2.weight,\n",
    "                    self.linear2.bias,\n",
    "                    src_mask if src_mask is not None else src_key_padding_mask,  # TODO: split into two args\n",
    "                )\n",
    "        x = src\n",
    "        if self.norm_first:\n",
    "            x = x + self._sa_block(self.norm1(x), src_mask, src_key_padding_mask)\n",
    "            x = self.context_gating(x, self._ca_block(x, ctx_encoding, ctx_key_padding_mask))\n",
    "            x = x + self._ff_block(self.norm2(x))\n",
    "        else:\n",
    "            x = self.norm1(x + self._sa_block(x, src_mask, src_key_padding_mask))\n",
    "            x = self.context_gating(x, self._ca_block(x, ctx_encoding, ctx_key_padding_mask))\n",
    "            x = self.norm2(x + self._ff_block(x))\n",
    "\n",
    "        return x\n",
    "\n",
    "    # self-attention block\n",
    "    def _sa_block(self, x: Tensor,\n",
    "                  attn_mask: Optional[Tensor], key_padding_mask: Optional[Tensor]) -> Tensor:\n",
    "        x = self.self_attn(x, x, x,\n",
    "                           attn_mask=attn_mask,\n",
    "                           key_padding_mask=key_padding_mask,\n",
    "                           need_weights=False)[0]\n",
    "        return self.dropout1(x)\n",
    "\n",
    "    # context-attention block\n",
    "    def _ca_block(self, x: Tensor, ctx_encoding: Tensor, ctx_key_padding_mask: Optional[Tensor] = None) -> Tensor:\n",
    "        x = self.context_attention(x, ctx_encoding, ctx_encoding, key_padding_mask=ctx_key_padding_mask, need_weights=False)[0]\n",
    "        return self.dropout3(x)\n",
    "\n",
    "    # feed forward block\n",
    "    def _ff_block(self, x: Tensor) -> Tensor:\n",
    "        x = self.linear2(self.dropout(self.activation(self.linear1(x))))\n",
    "        return self.dropout2(x)"
   ]
  },
  {
   "cell_type": "code",
   "execution_count": null,
   "metadata": {
    "id": "Vv_5TQJhQSAR"
   },
   "outputs": [],
   "source": [
    "class TransformerEncoder(Module):\n",
    "    __constants__ = ['norm']\n",
    "\n",
    "    def __init__(self, encoder_layer, num_layers, norm=None, enable_nested_tensor=False):\n",
    "        super(TransformerEncoder, self).__init__()\n",
    "        self.layers = _get_clones(encoder_layer, num_layers)\n",
    "        self.num_layers = num_layers\n",
    "        self.norm = norm\n",
    "        self.enable_nested_tensor = enable_nested_tensor\n",
    "\n",
    "    def forward(self, src: Tensor, ctx_encoding: Tensor, mask: Optional[Tensor] = None,\n",
    "                src_key_padding_mask: Optional[Tensor] = None, ctx_key_padding_mask: Optional[Tensor] = None) -> Tensor:\n",
    "        r\"\"\"Pass the input through the encoder layers in turn.\n",
    "\n",
    "        Args:\n",
    "            src: the sequence to the encoder (required).\n",
    "            mask: the mask for the src sequence (optional).\n",
    "            src_key_padding_mask: the mask for the src keys per batch (optional).\n",
    "\n",
    "        Shape:\n",
    "            see the docs in Transformer class.\n",
    "        \"\"\"\n",
    "        output = src\n",
    "        convert_to_nested = False\n",
    "        first_layer = self.layers[0]\n",
    "        if isinstance(first_layer, torch.nn.TransformerEncoderLayer):\n",
    "            if (not first_layer.norm_first and not first_layer.training and\n",
    "                    first_layer.self_attn.batch_first and\n",
    "                    first_layer.self_attn._qkv_same_embed_dim and first_layer.activation_relu_or_gelu and\n",
    "                    first_layer.norm1.eps == first_layer.norm2.eps and\n",
    "                    src.dim() == 3 and self.enable_nested_tensor) :\n",
    "                if src_key_padding_mask is not None and not output.is_nested and mask is None:\n",
    "                    tensor_args = (\n",
    "                        src,\n",
    "                        first_layer.self_attn.in_proj_weight,\n",
    "                        first_layer.self_attn.in_proj_bias,\n",
    "                        first_layer.self_attn.out_proj.weight,\n",
    "                        first_layer.self_attn.out_proj.bias,\n",
    "                        first_layer.norm1.weight,\n",
    "                        first_layer.norm1.bias,\n",
    "                        first_layer.norm2.weight,\n",
    "                        first_layer.norm2.bias,\n",
    "                        first_layer.linear1.weight,\n",
    "                        first_layer.linear1.bias,\n",
    "                        first_layer.linear2.weight,\n",
    "                        first_layer.linear2.bias,\n",
    "                    )\n",
    "                    if not torch.overrides.has_torch_function(tensor_args):\n",
    "                        if not torch.is_grad_enabled() or all([not x.requires_grad for x in tensor_args]):\n",
    "                            if output.is_cuda or 'cpu' in str(output.device):\n",
    "                                convert_to_nested = True\n",
    "                                output = torch._nested_tensor_from_mask(output, src_key_padding_mask.logical_not())\n",
    "\n",
    "        for mod in self.layers:\n",
    "            if convert_to_nested:\n",
    "                output = mod(output, ctx_encoding, src_mask=mask)\n",
    "            else:\n",
    "                output = mod(output, ctx_encoding, src_mask=mask, src_key_padding_mask=src_key_padding_mask, ctx_key_padding_mask=ctx_key_padding_mask)\n",
    "\n",
    "        if convert_to_nested:\n",
    "            output = output.to_padded_tensor(0.)\n",
    "\n",
    "        if self.norm is not None:\n",
    "            output = self.norm(output)\n",
    "\n",
    "        return output"
   ]
  },
  {
   "cell_type": "markdown",
   "metadata": {
    "id": "emhLQmnXQSAS"
   },
   "source": [
    "## Decoder"
   ]
  },
  {
   "cell_type": "code",
   "execution_count": null,
   "metadata": {
    "id": "lx9I6xIvQSAS"
   },
   "outputs": [],
   "source": [
    "class TransformerDecoderLayer(Module):\n",
    "    __constants__ = ['batch_first', 'norm_first']\n",
    "\n",
    "    def __init__(self, d_model: int, nhead: int, dim_feedforward: int = 2048, dim_contextgating: int = 512, dropout: float = 0.1,\n",
    "                 activation: Union[str, Callable[[Tensor], Tensor]] = F.relu,\n",
    "                 layer_norm_eps: float = 1e-5, batch_first: bool = False, norm_first: bool = False,\n",
    "                 device=None, dtype=None) -> None:\n",
    "        factory_kwargs = {'device': device, 'dtype': dtype}\n",
    "        super(TransformerDecoderLayer, self).__init__()\n",
    "        self.self_attn = MultiheadAttention(d_model, nhead, dropout=dropout, batch_first=batch_first,\n",
    "                                            **factory_kwargs)\n",
    "        self.multihead_attn = MultiheadAttention(d_model, nhead, dropout=dropout, batch_first=batch_first,\n",
    "                                                 **factory_kwargs)\n",
    "        # Implementation of Feedforward model\n",
    "        self.linear1 = Linear(d_model, dim_feedforward, **factory_kwargs)\n",
    "        self.dropout = Dropout(dropout)\n",
    "        self.linear2 = Linear(dim_feedforward, d_model, **factory_kwargs)\n",
    "\n",
    "        self.norm_first = norm_first\n",
    "        self.norm1 = LayerNorm(d_model, eps=layer_norm_eps, **factory_kwargs)\n",
    "        self.norm2 = LayerNorm(d_model, eps=layer_norm_eps, **factory_kwargs)\n",
    "        self.norm3 = LayerNorm(d_model, eps=layer_norm_eps, **factory_kwargs)\n",
    "        self.dropout1 = Dropout(dropout)\n",
    "        self.dropout2 = Dropout(dropout)\n",
    "        self.dropout3 = Dropout(dropout)\n",
    "        self.dropout4 = Dropout(dropout)\n",
    "\n",
    "        # Legacy string support for activation function.\n",
    "        if isinstance(activation, str):\n",
    "            self.activation = _get_activation_fn(activation)\n",
    "        else:\n",
    "            self.activation = activation\n",
    "\n",
    "        self.context_attention = MultiheadAttention(d_model, nhead, dropout=dropout, batch_first=batch_first,\n",
    "                                                    **factory_kwargs)\n",
    "        self.context_gating = ContextGating(d_model, dim_contextgating)\n",
    "\n",
    "    def __setstate__(self, state):\n",
    "        if 'activation' not in state:\n",
    "            state['activation'] = F.relu\n",
    "        super(TransformerDecoderLayer, self).__setstate__(state)\n",
    "\n",
    "    def forward(self, tgt: Tensor, memory: Tensor, ctx_encoding: Tensor, tgt_mask: Optional[Tensor] = None, memory_mask: Optional[Tensor] = None,\n",
    "                tgt_key_padding_mask: Optional[Tensor] = None, memory_key_padding_mask: Optional[Tensor] = None,\n",
    "                ctx_key_padding_mask: Optional[Tensor] = None) -> Tensor:\n",
    "        x = tgt\n",
    "        if self.norm_first:\n",
    "            x = x + self._sa_block(self.norm1(x), tgt_mask, tgt_key_padding_mask)\n",
    "            x = self.context_gating(x, self._ca_block(x, ctx_encoding, ctx_key_padding_mask))\n",
    "            x = x + self._mha_block(self.norm2(x), memory, memory_mask, memory_key_padding_mask)\n",
    "            x = x + self._ff_block(self.norm3(x))\n",
    "        else:\n",
    "            x = self.norm1(x + self._sa_block(x, tgt_mask, tgt_key_padding_mask))\n",
    "            x = self.context_gating(x, self._ca_block(x, ctx_encoding, ctx_key_padding_mask))\n",
    "            x = self.norm2(x + self._mha_block(x, memory, memory_mask, memory_key_padding_mask))\n",
    "            x = self.norm3(x + self._ff_block(x))\n",
    "\n",
    "        return x\n",
    "\n",
    "    # self-attention block\n",
    "    def _sa_block(self, x: Tensor,\n",
    "                  attn_mask: Optional[Tensor], key_padding_mask: Optional[Tensor]) -> Tensor:\n",
    "        x = self.self_attn(x, x, x,\n",
    "                           attn_mask=attn_mask,\n",
    "                           key_padding_mask=key_padding_mask,\n",
    "                           need_weights=False)[0]\n",
    "        return self.dropout1(x)\n",
    "\n",
    "    # context-attention block\n",
    "    def _ca_block(self, x: Tensor, ctx_encoding: Tensor, ctx_key_padding_mask: Optional[Tensor] = None) -> Tensor:\n",
    "        x = self.context_attention(x, ctx_encoding, ctx_encoding, key_padding_mask=ctx_key_padding_mask, need_weights=False)[0]\n",
    "        return self.dropout4(x)\n",
    "\n",
    "    # multihead attention block\n",
    "    def _mha_block(self, x: Tensor, mem: Tensor,\n",
    "                   attn_mask: Optional[Tensor], key_padding_mask: Optional[Tensor]) -> Tensor:\n",
    "        x = self.multihead_attn(x, mem, mem,\n",
    "                                attn_mask=attn_mask,\n",
    "                                key_padding_mask=key_padding_mask,\n",
    "                                need_weights=False)[0]\n",
    "        return self.dropout2(x)\n",
    "\n",
    "    # feed forward block\n",
    "    def _ff_block(self, x: Tensor) -> Tensor:\n",
    "        x = self.linear2(self.dropout(self.activation(self.linear1(x))))\n",
    "        return self.dropout3(x)"
   ]
  },
  {
   "cell_type": "code",
   "execution_count": null,
   "metadata": {
    "id": "EqxWRHwgQSAT"
   },
   "outputs": [],
   "source": [
    "class TransformerDecoder(Module):\n",
    "    __constants__ = ['norm']\n",
    "\n",
    "    def __init__(self, decoder_layer, num_layers, norm=None):\n",
    "        super(TransformerDecoder, self).__init__()\n",
    "        self.layers = _get_clones(decoder_layer, num_layers)\n",
    "        self.num_layers = num_layers\n",
    "        self.norm = norm\n",
    "\n",
    "    def forward(self, tgt: Tensor, memory: Tensor, ctx_encoding: Tensor, tgt_mask: Optional[Tensor] = None,\n",
    "                memory_mask: Optional[Tensor] = None, tgt_key_padding_mask: Optional[Tensor] = None,\n",
    "                memory_key_padding_mask: Optional[Tensor] = None,\n",
    "                ctx_key_padding_mask: Optional[Tensor] = None) -> Tensor:\n",
    "        output = tgt\n",
    "\n",
    "        for mod in self.layers:\n",
    "            output = mod(output, memory, ctx_encoding, tgt_mask=tgt_mask,\n",
    "                         memory_mask=memory_mask,\n",
    "                         tgt_key_padding_mask=tgt_key_padding_mask,\n",
    "                         memory_key_padding_mask=memory_key_padding_mask,\n",
    "                         ctx_key_padding_mask=ctx_key_padding_mask)\n",
    "\n",
    "        if self.norm is not None:\n",
    "            output = self.norm(output)\n",
    "\n",
    "        return output"
   ]
  },
  {
   "cell_type": "markdown",
   "metadata": {
    "id": "w56IsqNrQSAT"
   },
   "source": [
    "## Transformer"
   ]
  },
  {
   "cell_type": "code",
   "execution_count": null,
   "metadata": {
    "id": "1AR_NfvfQSAT"
   },
   "outputs": [],
   "source": [
    "class Transformer(Module):\n",
    "    def __init__(self, d_model: int = 512, nhead: int = 8, num_encoder_layers: int = 6,\n",
    "                 num_decoder_layers: int = 6, dim_feedforward: int = 2048, dim_contextgating: int = 512, dropout: float = 0.1,\n",
    "                 activation: Union[str, Callable[[Tensor], Tensor]] = F.relu,\n",
    "                 custom_encoder: Optional[Any] = None, custom_decoder: Optional[Any] = None,\n",
    "                 layer_norm_eps: float = 1e-5, batch_first: bool = False, norm_first: bool = False,\n",
    "                 device=None, dtype=None) -> None:\n",
    "        factory_kwargs = {'device': device, 'dtype': dtype}\n",
    "        super(Transformer, self).__init__()\n",
    "\n",
    "        if custom_encoder is not None:\n",
    "            self.encoder = custom_encoder\n",
    "        else:\n",
    "            encoder_layer = TransformerEncoderLayer(d_model, nhead, dim_feedforward, dim_contextgating, dropout,\n",
    "                                                    activation, layer_norm_eps, batch_first, norm_first,\n",
    "                                                    **factory_kwargs)\n",
    "            encoder_norm = LayerNorm(d_model, eps=layer_norm_eps, **factory_kwargs)\n",
    "            self.encoder = TransformerEncoder(encoder_layer, num_encoder_layers, encoder_norm)\n",
    "\n",
    "        if custom_decoder is not None:\n",
    "            self.decoder = custom_decoder\n",
    "        else:\n",
    "            decoder_layer = TransformerDecoderLayer(d_model, nhead, dim_feedforward, dim_contextgating, dropout,\n",
    "                                                    activation, layer_norm_eps, batch_first, norm_first,\n",
    "                                                    **factory_kwargs)\n",
    "            decoder_norm = LayerNorm(d_model, eps=layer_norm_eps, **factory_kwargs)\n",
    "            self.decoder = TransformerDecoder(decoder_layer, num_decoder_layers, decoder_norm)\n",
    "\n",
    "        self.context_encoder = ContextEncoderLayer(d_model, nhead, dim_feedforward, dropout)\n",
    "\n",
    "        self._reset_parameters()\n",
    "\n",
    "        self.d_model = d_model\n",
    "        self.nhead = nhead\n",
    "\n",
    "        self.batch_first = batch_first\n",
    "\n",
    "    def forward(self, src: Tensor, tgt: Tensor, ctx_input: Tensor, src_mask: Optional[Tensor] = None, tgt_mask: Optional[Tensor] = None,\n",
    "                memory_mask: Optional[Tensor] = None, src_key_padding_mask: Optional[Tensor] = None,\n",
    "                tgt_key_padding_mask: Optional[Tensor] = None, memory_key_padding_mask: Optional[Tensor] = None,\n",
    "                ctx_key_padding_mask: Optional[Tensor] = None) -> Tensor:\n",
    "        is_batched = src.dim() == 3\n",
    "        if not self.batch_first and src.size(1) != tgt.size(1) and is_batched:\n",
    "            raise RuntimeError(\"the batch number of src and tgt must be equal\")\n",
    "        elif self.batch_first and src.size(0) != tgt.size(0) and is_batched:\n",
    "            raise RuntimeError(\"the batch number of src and tgt must be equal\")\n",
    "\n",
    "        if src.size(-1) != self.d_model or tgt.size(-1) != self.d_model:\n",
    "            raise RuntimeError(\"the feature number of src and tgt must be equal to d_model\")\n",
    "\n",
    "        ctx_encoding = self.context_encoder(ctx_input, ctx_key_padding_mask)\n",
    "\n",
    "        memory = self.encoder(src, ctx_encoding, mask=src_mask, src_key_padding_mask=src_key_padding_mask, ctx_key_padding_mask=ctx_key_padding_mask)\n",
    "        output = self.decoder(tgt, memory, ctx_encoding, tgt_mask=tgt_mask, memory_mask=memory_mask,\n",
    "                              tgt_key_padding_mask=tgt_key_padding_mask,\n",
    "                              memory_key_padding_mask=memory_key_padding_mask,\n",
    "                              ctx_key_padding_mask=ctx_key_padding_mask)\n",
    "        return output\n",
    "\n",
    "    @staticmethod\n",
    "    def generate_square_subsequent_mask(sz: int) -> Tensor:\n",
    "        r\"\"\"Generate a square mask for the sequence. The masked positions are filled with float('-inf').\n",
    "            Unmasked positions are filled with float(0.0).\n",
    "        \"\"\"\n",
    "        return torch.triu(torch.full((sz, sz), float('-inf')), diagonal=1)\n",
    "\n",
    "    def _reset_parameters(self):\n",
    "        r\"\"\"Initiate parameters in the transformer model.\"\"\"\n",
    "\n",
    "        for p in self.parameters():\n",
    "            if p.dim() > 1:\n",
    "                xavier_uniform_(p)"
   ]
  },
  {
   "cell_type": "markdown",
   "metadata": {
    "editable": true,
    "id": "ROZ23ynL-DNg",
    "tags": []
   },
   "source": [
    "# Setting up"
   ]
  },
  {
   "cell_type": "markdown",
   "metadata": {
    "id": "-ozj9kUS-Mzr"
   },
   "source": [
    "## Import required modules"
   ]
  },
  {
   "cell_type": "code",
   "execution_count": null,
   "metadata": {
    "colab": {
     "base_uri": "https://localhost:8080/"
    },
    "id": "ST0WawrJF-7I",
    "outputId": "44c75256-8715-4cf5-efcd-3af06fe6963c"
   },
   "outputs": [],
   "source": [
    "!pip install -U datasets\n",
    "!pip install torchdata==0.4.1\n",
    "!pip install torchtext==0.13.1\n",
    "!pip install spacy\n",
    "!python -m spacy download en_core_web_sm\n",
    "!python -m spacy download zh_core_web_sm"
   ]
  },
  {
   "cell_type": "code",
   "execution_count": null,
   "metadata": {
    "colab": {
     "base_uri": "https://localhost:8080/",
     "height": 1000
    },
    "editable": true,
    "id": "H3H_3qqw00vh",
    "outputId": "68713cb5-12a4-4957-80dc-6000e457979f",
    "tags": []
   },
   "outputs": [],
   "source": [
    "# hugging face module\n",
    "from datasets import load_dataset\n",
    "zh_en_dataset = load_dataset('gsarti/iwslt2017_context', 'iwslt2017-zh-en')"
   ]
  },
  {
   "cell_type": "markdown",
   "metadata": {
    "id": "Zi-YwAtS_89J"
   },
   "source": [
    "# Transformer"
   ]
  },
  {
   "cell_type": "markdown",
   "metadata": {
    "id": "kyQYLujtEXeq"
   },
   "source": [
    "![image.png](data:image/png;base64,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)"
   ]
  },
  {
   "cell_type": "markdown",
   "metadata": {
    "id": "x8uPQOXAo7Dd"
   },
   "source": [
    "references: https://pytorch.org/tutorials/beginner/translation_transformer.html"
   ]
  },
  {
   "cell_type": "markdown",
   "metadata": {
    "id": "EyU7ow7H1xJx"
   },
   "source": [
    "## Create Model:"
   ]
  },
  {
   "cell_type": "markdown",
   "metadata": {
    "id": "xM0izaxMfrE9"
   },
   "source": [
    "### Data Preprocessing:"
   ]
  },
  {
   "cell_type": "code",
   "execution_count": null,
   "metadata": {
    "id": "yb9n3hauXrjd"
   },
   "outputs": [],
   "source": [
    "import copy\n",
    "import math\n",
    "import torch\n",
    "import torch.nn as nn\n",
    "import torch.optim as optim\n",
    "import torch.utils.data as data\n",
    "from torch.utils.data import DataLoader\n",
    "from torch.utils.data import Dataset\n",
    "from torch.utils.data import Subset\n",
    "from torchtext.data.utils import get_tokenizer\n",
    "from torchtext.vocab import build_vocab_from_iterator\n",
    "from typing import Iterable, List"
   ]
  },
  {
   "cell_type": "code",
   "execution_count": null,
   "metadata": {
    "id": "KHkiNm-TQSAY"
   },
   "outputs": [],
   "source": [
    "DOC_ID = 'doc_id'\n",
    "SEG_ID = 'seg_id'"
   ]
  },
  {
   "cell_type": "code",
   "execution_count": null,
   "metadata": {
    "id": "Bh3WZ_siQSAY"
   },
   "outputs": [],
   "source": [
    "class TranslationDataset(Dataset):\n",
    "    def __init__(self, old_dataset):\n",
    "        self.old_dataset = old_dataset\n",
    "        self.doc_id_to_offset = {}\n",
    "        for data in self.old_dataset:\n",
    "            doc_id = data[DOC_ID]\n",
    "            seg_id = data[SEG_ID]\n",
    "            if doc_id not in self.doc_id_to_offset:\n",
    "                self.doc_id_to_offset[doc_id] = seg_id\n",
    "            elif seg_id < self.doc_id_to_offset[doc_id]:\n",
    "                # current seg id is smaller than previous registered offset\n",
    "                self.doc_id_to_offset[doc_id] = seg_id\n",
    "\n",
    "    def __len__(self):\n",
    "        return len(self.old_dataset)\n",
    "\n",
    "    def __getitem__(self, idx):\n",
    "        sample = self.old_dataset[idx]\n",
    "        doc_id = sample[DOC_ID]\n",
    "\n",
    "        seg_id = sample[SEG_ID]\n",
    "        offset = self.doc_id_to_offset[doc_id]\n",
    "        sample_idx = seg_id - offset\n",
    "        if sample_idx == 0:\n",
    "          sample_idx = 1\n",
    "        sample['idx'] = sample_idx\n",
    "\n",
    "        return sample"
   ]
  },
  {
   "cell_type": "code",
   "execution_count": null,
   "metadata": {
    "id": "lFActqIVQSAY"
   },
   "outputs": [],
   "source": [
    "DEVICE = torch.device('cuda' if torch.cuda.is_available() else 'cpu')\n",
    "\n",
    "# Split dataset\n",
    "train, test, validation = TranslationDataset(zh_en_dataset['train']), TranslationDataset(zh_en_dataset['test']), TranslationDataset(zh_en_dataset['validation'])\n",
    "\n",
    "# FOR LOCAL USAGE\n",
    "LOCAL_TRAIN_DATA_SIZE = 8\n",
    "subset_indices = []\n",
    "for i in range(LOCAL_TRAIN_DATA_SIZE):\n",
    "    subset_indices.append(i)\n",
    "train_local = Subset(train, subset_indices)\n",
    "\n",
    "SRC_LANGUAGE = 'zh'\n",
    "TGT_LANGUAGE = 'en'"
   ]
  },
  {
   "cell_type": "code",
   "execution_count": null,
   "metadata": {},
   "outputs": [],
   "source": [
    "print(len(train))"
   ]
  },
  {
   "cell_type": "markdown",
   "metadata": {
    "id": "9Hd03lJSfn1R"
   },
   "source": [
    "### Tokenization"
   ]
  },
  {
   "cell_type": "code",
   "execution_count": null,
   "metadata": {
    "id": "KdaWKjjOXSjh"
   },
   "outputs": [],
   "source": [
    "# Place-holders\n",
    "token_transform = {}\n",
    "vocab_transform = {}\n",
    "token_transform[SRC_LANGUAGE] = get_tokenizer('spacy', language='zh_core_web_sm')\n",
    "token_transform[TGT_LANGUAGE] = get_tokenizer('spacy', language='en_core_web_sm')\n",
    "\n",
    "# helper function to yield list of tokens\n",
    "def yield_tokens(data_iter, language):\n",
    "  for data_sample in data_iter:\n",
    "    yield token_transform[language](data_sample['translation'][language])\n",
    "\n",
    "# Define special symbols and indices\n",
    "UNK_IDX, PAD_IDX, BOS_IDX, EOS_IDX = 0, 1, 2, 3\n",
    "# Make sure the tokens are in order of their indices to properly insert them in vocab\n",
    "special_symbols = ['<unk>', '<pad>', '<bos>', '<eos>']\n",
    "\n",
    "for ln in [SRC_LANGUAGE, TGT_LANGUAGE]:\n",
    "  # Training data Iterator\n",
    "  train_iter = train\n",
    "  # Create torchtext's Vocab object\n",
    "  vocab_transform[ln] = build_vocab_from_iterator(yield_tokens(train_iter, ln), min_freq=1, specials=special_symbols, special_first=True)\n",
    "\n",
    "# Set ``UNK_IDX`` as the default index. This index is returned when the token is not found.\n",
    "# If not set, it throws ``RuntimeError`` when the queried token is not found in the Vocabulary.\n",
    "for ln in [SRC_LANGUAGE, TGT_LANGUAGE]:\n",
    "  vocab_transform[ln].set_default_index(UNK_IDX)"
   ]
  },
  {
   "cell_type": "markdown",
   "metadata": {
    "id": "yxYHOWldQSAZ"
   },
   "source": [
    "### Build Context"
   ]
  },
  {
   "cell_type": "code",
   "execution_count": null,
   "metadata": {
    "id": "SGxFXAsMQSAa"
   },
   "outputs": [],
   "source": [
    "# helper function to club together sequential operations\n",
    "def sequential_transforms(*transforms):\n",
    "  def func(txt_input):\n",
    "      for transform in transforms:\n",
    "          txt_input = transform(txt_input)\n",
    "      return txt_input\n",
    "  return func\n",
    "\n",
    "# function to add BOS/EOS and create tensor for input sequence indices\n",
    "def tensor_transform(token_ids: List[int]):\n",
    "  return torch.cat((torch.tensor([BOS_IDX]), torch.tensor(token_ids), torch.tensor([EOS_IDX])))\n",
    "\n",
    "# ``src`` and ``tgt`` language text transforms to convert raw strings into tensors indices\n",
    "text_transform = {}\n",
    "for ln in [SRC_LANGUAGE, TGT_LANGUAGE]:\n",
    "  text_transform[ln] = sequential_transforms(token_transform[ln], #Tokenization\n",
    "                        vocab_transform[ln], #Numericalization\n",
    "                        tensor_transform) # Add BOS/EOS and create tensor"
   ]
  },
  {
   "cell_type": "code",
   "execution_count": null,
   "metadata": {
    "id": "dxAG3pArQSAa"
   },
   "outputs": [],
   "source": [
    "# {'1': ['sentence 1', 'sentence 2']}\n",
    "context = {}\n",
    "\n",
    "datasets = [train, test, validation]\n",
    "for dataset in datasets:\n",
    "    current_tensors = []\n",
    "    current_doc_id = dataset[0][DOC_ID]\n",
    "\n",
    "    for idx, data in enumerate(dataset):\n",
    "        if data[DOC_ID] != current_doc_id:\n",
    "            # save\n",
    "            context[current_doc_id] = current_tensors\n",
    "\n",
    "            # reset\n",
    "            current_doc_id = data[DOC_ID]\n",
    "            current_tensors = []\n",
    "        current_tensors.append(text_transform[SRC_LANGUAGE](data['translation'][SRC_LANGUAGE]))\n",
    "\n",
    "    # save the last list of tensors\n",
    "    context[current_doc_id] = current_tensors"
   ]
  },
  {
   "cell_type": "markdown",
   "metadata": {
    "id": "7xIHSFi2XhTf"
   },
   "source": [
    "### Seq2Seq Transformer"
   ]
  },
  {
   "cell_type": "code",
   "execution_count": null,
   "metadata": {
    "id": "A_p02wGmXkPK"
   },
   "outputs": [],
   "source": [
    "from torch import Tensor\n",
    "import torch\n",
    "import torch.nn as nn\n",
    "import math\n",
    "DEVICE = torch.device('cuda' if torch.cuda.is_available() else 'cpu')\n",
    "\n",
    "# helper Module that adds positional encoding to the token embedding to introduce a notion of word order.\n",
    "class PositionalEncoding(nn.Module):\n",
    "  def __init__(self,\n",
    "        emb_size: int,\n",
    "        dropout: float,\n",
    "        maxlen: int = 5000):\n",
    "    super(PositionalEncoding, self).__init__()\n",
    "    den = torch.exp(- torch.arange(0, emb_size, 2)* math.log(10000) / emb_size)\n",
    "    pos = torch.arange(0, maxlen).reshape(maxlen, 1)\n",
    "    pos_embedding = torch.zeros((maxlen, emb_size))\n",
    "    pos_embedding[:, 0::2] = torch.sin(pos * den)\n",
    "    pos_embedding[:, 1::2] = torch.cos(pos * den)\n",
    "    pos_embedding = pos_embedding.unsqueeze(-2)\n",
    "\n",
    "    self.dropout = nn.Dropout(dropout)\n",
    "    self.register_buffer('pos_embedding', pos_embedding)\n",
    "\n",
    "  def forward(self, token_embedding: Tensor):\n",
    "    return self.dropout(token_embedding + self.pos_embedding[:token_embedding.size(0), :])\n",
    "\n",
    "# helper Module to convert tensor of input indices into corresponding tensor of token embeddings\n",
    "class TokenEmbedding(nn.Module):\n",
    "  def __init__(self, vocab_size: int, emb_size):\n",
    "    super(TokenEmbedding, self).__init__()\n",
    "    self.embedding = nn.Embedding(vocab_size, emb_size)\n",
    "    self.emb_size = emb_size\n",
    "\n",
    "  def forward(self, tokens: Tensor):\n",
    "    res = self.embedding(tokens.long()) * math.sqrt(self.emb_size)\n",
    "    return res\n",
    "\n",
    "# Seq2Seq Network\n",
    "class Seq2SeqTransformer(nn.Module):\n",
    "  def __init__(self,\n",
    "         num_encoder_layers: int,\n",
    "         num_decoder_layers: int,\n",
    "         emb_size: int,\n",
    "         nhead: int,\n",
    "         src_vocab_size: int,\n",
    "         tgt_vocab_size: int,\n",
    "         dim_feedforward: int = 512,\n",
    "         dim_contextgating: int = 512,\n",
    "         dropout: float = 0.1):\n",
    "    super(Seq2SeqTransformer, self).__init__()\n",
    "    self.transformer = Transformer(d_model=emb_size,\n",
    "                    nhead=nhead,\n",
    "                    num_encoder_layers=num_encoder_layers,\n",
    "                    num_decoder_layers=num_decoder_layers,\n",
    "                    dim_feedforward=dim_feedforward,\n",
    "                    dim_contextgating=dim_contextgating,\n",
    "                    dropout=dropout)\n",
    "    self.generator = nn.Linear(emb_size, tgt_vocab_size)\n",
    "    self.src_tok_emb = TokenEmbedding(src_vocab_size, emb_size)\n",
    "    self.tgt_tok_emb = TokenEmbedding(tgt_vocab_size, emb_size)\n",
    "    self.ctx_tok_emb = TokenEmbedding(src_vocab_size, emb_size)\n",
    "    self.positional_encoding = PositionalEncoding(emb_size, dropout=dropout)\n",
    "\n",
    "  def forward(self,\n",
    "        src: Tensor,\n",
    "        trg: Tensor,\n",
    "        ctx_input: Tensor,\n",
    "        src_mask: Tensor,\n",
    "        tgt_mask: Tensor,\n",
    "        src_padding_mask: Tensor,\n",
    "        tgt_padding_mask: Tensor,\n",
    "        memory_key_padding_mask: Tensor,\n",
    "        ctx_key_padding_mask: Tensor):\n",
    "    src_emb = self.positional_encoding(self.src_tok_emb(src))\n",
    "    tgt_emb = self.positional_encoding(self.tgt_tok_emb(trg))\n",
    "    ctx_emb = self.positional_encoding(self.ctx_tok_emb(ctx_input))\n",
    "    outs = self.transformer(src_emb, tgt_emb, ctx_emb, src_mask, tgt_mask, None, src_padding_mask, tgt_padding_mask, memory_key_padding_mask, ctx_key_padding_mask)\n",
    "    return self.generator(outs)\n",
    "\n",
    "  def encode(self, src: Tensor, ctx_encoding: Tensor, src_mask: Tensor):\n",
    "    src_emb = self.positional_encoding(self.src_tok_emb(src))\n",
    "    return self.transformer.encoder(src_emb, ctx_encoding, src_mask)\n",
    "\n",
    "  def decode(self, tgt: Tensor, memory: Tensor, ctx_encoding: Tensor, tgt_mask: Tensor):\n",
    "    tgt_emb = self.positional_encoding(self.tgt_tok_emb(tgt))\n",
    "    return self.transformer.decoder(tgt_emb, memory, ctx_encoding, tgt_mask)\n",
    "\n",
    "  def encode_ctx(self, ctx_input: Tensor):\n",
    "    ctx_emb = self.positional_encoding(self.ctx_tok_emb(ctx_input))\n",
    "    return self.transformer.context_encoder(ctx_emb)"
   ]
  },
  {
   "cell_type": "markdown",
   "metadata": {
    "id": "FnskXgg6ZRqj"
   },
   "source": [
    "### Masking\n",
    "Prevent model from looking into the future words when making predictions"
   ]
  },
  {
   "cell_type": "code",
   "execution_count": null,
   "metadata": {
    "id": "RLaO-UFkZDbt"
   },
   "outputs": [],
   "source": [
    "def generate_square_subsequent_mask(sz):\n",
    "  mask = (torch.triu(torch.ones((sz, sz), device=DEVICE)) == 1).transpose(0, 1)\n",
    "  mask = mask.float().masked_fill(mask == 0, float('-inf')).masked_fill(mask == 1, float(0.0))\n",
    "  return mask\n",
    "\n",
    "\n",
    "def create_mask(src, tgt, ctx_input):\n",
    "  src_seq_len = src.shape[0]\n",
    "  tgt_seq_len = tgt.shape[0]\n",
    "\n",
    "  tgt_mask = generate_square_subsequent_mask(tgt_seq_len)\n",
    "  src_mask = torch.zeros((src_seq_len, src_seq_len),device=DEVICE).type(torch.bool)\n",
    "\n",
    "  src_padding_mask = (src == PAD_IDX).transpose(0, 1)\n",
    "  tgt_padding_mask = (tgt == PAD_IDX).transpose(0, 1)\n",
    "  ctx_padding_mask = (ctx_input == PAD_IDX).transpose(0, 1)\n",
    "  return src_mask, tgt_mask, src_padding_mask, tgt_padding_mask, ctx_padding_mask"
   ]
  },
  {
   "cell_type": "markdown",
   "metadata": {
    "id": "h1hTmjifZKXc"
   },
   "source": [
    "### Hyperparameters:"
   ]
  },
  {
   "cell_type": "code",
   "execution_count": null,
   "metadata": {
    "id": "s7V0oJX3ZGzt"
   },
   "outputs": [],
   "source": [
    "torch.manual_seed(0)\n",
    "\n",
    "SRC_VOCAB_SIZE = len(vocab_transform[SRC_LANGUAGE])\n",
    "TGT_VOCAB_SIZE = len(vocab_transform[TGT_LANGUAGE])\n",
    "EMB_SIZE = 128\n",
    "NHEAD = 4\n",
    "FFN_HID_DIM = 512\n",
    "CG_HID_DIM = 512\n",
    "BATCH_SIZE = 64\n",
    "NUM_ENCODER_LAYERS = 4\n",
    "NUM_DECODER_LAYERS = 4\n",
    "DROPOUT = 0.1\n",
    "CONTEXT_WINDOW_SIZE = 10\n",
    "\n",
    "transformer = Seq2SeqTransformer(NUM_ENCODER_LAYERS, NUM_DECODER_LAYERS, EMB_SIZE, NHEAD, SRC_VOCAB_SIZE, TGT_VOCAB_SIZE, FFN_HID_DIM, CG_HID_DIM, DROPOUT)"
   ]
  },
  {
   "cell_type": "code",
   "execution_count": null,
   "metadata": {
    "id": "Lf0J1WJzF-7R"
   },
   "outputs": [],
   "source": [
    "for p in transformer.parameters():\n",
    "    if p.dim() > 1:\n",
    "        nn.init.xavier_uniform_(p)\n",
    "\n",
    "transformer = transformer.to(DEVICE)\n",
    "\n",
    "loss_fn = torch.nn.CrossEntropyLoss(ignore_index=PAD_IDX)\n",
    "\n",
    "optimizer = torch.optim.Adam(transformer.parameters(), lr=0.0001, betas=(0.9, 0.98), eps=1e-9)"
   ]
  },
  {
   "cell_type": "markdown",
   "metadata": {
    "id": "qdK8PHMgZnhH"
   },
   "source": [
    "### Batch Processing"
   ]
  },
  {
   "cell_type": "code",
   "execution_count": null,
   "metadata": {
    "id": "-djigbdaZmf-"
   },
   "outputs": [],
   "source": [
    "from torch.nn.utils.rnn import pad_sequence\n",
    "\n",
    "def collate_fn(batch):\n",
    "  src_batch, tgt_batch, ctx_input_batch = [], [], []\n",
    "  for element in batch:\n",
    "    idx = element['idx']\n",
    "    doc_id = element[DOC_ID]\n",
    "\n",
    "    src_batch.append(context[doc_id][idx])\n",
    "\n",
    "    tgt_sample = element['translation'][TGT_LANGUAGE]\n",
    "    tgt_batch.append(text_transform[TGT_LANGUAGE](tgt_sample.rstrip(\"\\n\")))\n",
    "\n",
    "    if idx == 0:\n",
    "        d_src = src_batch[0].size()\n",
    "        ctx_input_batch.append(torch.ones(d_src, dtype=src_batch[0].dtype))\n",
    "    else:\n",
    "        startIdx = 0\n",
    "        if idx > CONTEXT_WINDOW_SIZE:\n",
    "            startIdx = idx - CONTEXT_WINDOW_SIZE\n",
    "        ctx_input_batch.append(torch.cat(context[doc_id][startIdx:idx]))\n",
    "\n",
    "  src_batch = pad_sequence(src_batch, padding_value=PAD_IDX)\n",
    "  tgt_batch = pad_sequence(tgt_batch, padding_value=PAD_IDX)\n",
    "  ctx_input_batch = pad_sequence(ctx_input_batch, padding_value=PAD_IDX)\n",
    "  return src_batch, tgt_batch, ctx_input_batch"
   ]
  },
  {
   "cell_type": "markdown",
   "metadata": {
    "id": "X6JUQrM0AEb6"
   },
   "source": [
    "## Train Model"
   ]
  },
  {
   "cell_type": "code",
   "execution_count": null,
   "metadata": {
    "id": "LWtOeR8uZxQx"
   },
   "outputs": [],
   "source": [
    "from torch.utils.data import DataLoader\n",
    "from torchtext.data.metrics import bleu_score\n",
    "import torch\n",
    "\n",
    "def train_epoch(model, optimizer):\n",
    "    model.train()\n",
    "    losses = 0\n",
    "    train_iter = train\n",
    "    train_dataloader = DataLoader(train_iter, batch_size=BATCH_SIZE, collate_fn=collate_fn)\n",
    "\n",
    "    for src, tgt, ctx_input in train_dataloader:\n",
    "        src = src.to(DEVICE)\n",
    "        tgt = tgt.to(DEVICE)\n",
    "        ctx_input = ctx_input.to(DEVICE)\n",
    "\n",
    "        tgt_input = tgt[:-1, :]\n",
    "\n",
    "        src_mask, tgt_mask, src_padding_mask, tgt_padding_mask, ctx_padding_mask = create_mask(src, tgt_input, ctx_input)\n",
    "\n",
    "        logits = model(src, tgt_input, ctx_input, src_mask, tgt_mask,src_padding_mask, tgt_padding_mask, src_padding_mask, ctx_padding_mask)\n",
    "\n",
    "        optimizer.zero_grad()\n",
    "\n",
    "        tgt_out = tgt[1:, :]\n",
    "        loss = loss_fn(logits.reshape(-1, logits.shape[-1]), tgt_out.reshape(-1))\n",
    "        loss.backward()\n",
    "\n",
    "        optimizer.step()\n",
    "        losses += loss.item()\n",
    "\n",
    "    return losses / len(list(train_dataloader))\n",
    "\n",
    "\n",
    "def evaluate(model):\n",
    "    model.eval()\n",
    "    losses = 0\n",
    "    # total_bleu = 0\n",
    "    total_tokens = 0\n",
    "    count = 0\n",
    "\n",
    "    val_iter = validation\n",
    "    val_dataloader = DataLoader(val_iter, batch_size=BATCH_SIZE, collate_fn=collate_fn)\n",
    "\n",
    "    for src, tgt, ctx_input in val_dataloader:\n",
    "        src = src.to(DEVICE)\n",
    "        tgt = tgt.to(DEVICE)\n",
    "        ctx_input = ctx_input.to(DEVICE)\n",
    "\n",
    "        tgt_input = tgt[:-1, :]\n",
    "\n",
    "        src_mask, tgt_mask, src_padding_mask, tgt_padding_mask, ctx_padding_mask = create_mask(src, tgt_input, ctx_input)\n",
    "\n",
    "        logits = model(src, tgt_input, ctx_input, src_mask, tgt_mask,src_padding_mask, tgt_padding_mask, src_padding_mask, ctx_padding_mask)\n",
    "\n",
    "        tgt_out = tgt[1:, :]\n",
    "        loss = loss_fn(logits.reshape(-1, logits.shape[-1]), tgt_out.reshape(-1))\n",
    "        losses += loss.item()\n",
    "\n",
    "        not_special_tokens = lambda x: x!=\"<bos>\" and x!=\"<eos>\" and x!=\"<pad>\"\n",
    "\n",
    "#         # Calculate BLEU score\n",
    "#         translations = []\n",
    "#         targets = []\n",
    "#         for i in range(logits.shape[1]):\n",
    "#             predicted_ids = logits[:, i, :].argmax(1)\n",
    "#             # translations.append(predicted_ids.cpu().numpy())\n",
    "#             translations.append(list(filter(not_special_tokens, vocab_transform[TGT_LANGUAGE].lookup_tokens(list(predicted_ids.cpu().numpy())))))\n",
    "#             # targets.append([tgt_out[:, i].cpu().numpy()])\n",
    "#             targets.append([list(filter(not_special_tokens, vocab_transform[TGT_LANGUAGE].lookup_tokens(list(tgt_out[:, i].cpu().numpy()))))])\n",
    "#         print(translations[0])\n",
    "#         print(targets[0])\n",
    "\n",
    "#         total_bleu += bleu_score(translations, targets)\n",
    "\n",
    "        # Calculate perplexity\n",
    "        non_pad_tokens = tgt_out.ne(PAD_IDX).sum().item()\n",
    "        total_tokens += non_pad_tokens\n",
    "        count += 1\n",
    "\n",
    "    avg_loss = losses / len(val_dataloader)\n",
    "    # avg_bleu = total_bleu / count if count > 0 else 0\n",
    "    perplexity = torch.exp(torch.tensor(losses / total_tokens))\n",
    "\n",
    "    return avg_loss, perplexity.item()"
   ]
  },
  {
   "cell_type": "code",
   "execution_count": null,
   "metadata": {
    "id": "3VtwZBU9F-7S"
   },
   "outputs": [],
   "source": [
    "train_losses = []\n",
    "val_losses = []\n",
    "# val_bleu_scores = []\n",
    "val_perplexity_scores = []"
   ]
  },
  {
   "cell_type": "code",
   "execution_count": null,
   "metadata": {
    "id": "f5YcBfN1QSAk",
    "outputId": "ebf217a5-991a-4699-9af1-4d87bb4c46e7"
   },
   "outputs": [],
   "source": [
    "from timeit import default_timer as timer\n",
    "import matplotlib.pyplot as plt\n",
    "NUM_EPOCHS = 10\n",
    "\n",
    "for epoch in range(1, NUM_EPOCHS+1):\n",
    "  start_time = timer()\n",
    "  train_loss = train_epoch(transformer, optimizer)\n",
    "  end_time = timer()\n",
    "  val_loss, val_perplexity = evaluate(transformer)\n",
    "  train_losses.append(train_loss)\n",
    "  val_losses.append(val_loss)\n",
    "  # val_bleu_scores.append(val_bleu)\n",
    "  val_perplexity_scores.append(val_perplexity)\n",
    "  print((f\"Epoch: {epoch}, Train loss: {train_loss:.3f}, Val loss: {val_loss:.3f}, Val perplexity: {val_perplexity:.3f}, \"f\"Epoch time = {(end_time - start_time):.3f}s\"))"
   ]
  },
  {
   "cell_type": "code",
   "execution_count": null,
   "metadata": {
    "id": "ExULrLrbF-7S",
    "outputId": "13c5f4d8-ad23-4665-b32e-baaf73194a49"
   },
   "outputs": [],
   "source": [
    "epochs = range(1, NUM_EPOCHS + 1)\n",
    "hyperparameters = '256/4/512/64/4/4/0.2'\n",
    "\n",
    "plt.figure(figsize=(10, 5))\n",
    "plt.plot(epochs, train_losses, 'b', label='Training loss')\n",
    "plt.plot(epochs, val_losses, 'r', label='Validation loss')\n",
    "plt.title('LOSS, ' + hyperparameters)\n",
    "plt.xlabel('Epochs')\n",
    "plt.ylabel('Loss')\n",
    "plt.legend()\n",
    "plt.grid(True)\n",
    "plt.xticks(epochs)\n",
    "plt.show()"
   ]
  },
  {
   "cell_type": "code",
   "execution_count": null,
   "metadata": {
    "id": "2i4DRWiBF-7S",
    "outputId": "827e0668-48bf-45fb-f820-d90d17c13d1a"
   },
   "outputs": [],
   "source": [
    "plt.figure(figsize=(10, 5))\n",
    "plt.plot(epochs, val_perplexity_scores, 'b', label='Validation Perplexity')\n",
    "plt.title('Perplexity, ' + hyperparameters)\n",
    "plt.xlabel('Epochs')\n",
    "plt.ylabel('Perplexity')\n",
    "plt.legend()\n",
    "plt.grid(True)\n",
    "plt.xticks(epochs)\n",
    "plt.show()"
   ]
  },
  {
   "cell_type": "code",
   "execution_count": null,
   "metadata": {
    "id": "hLdtMu6oF-7T",
    "outputId": "0c03e2b6-f7f5-4ae1-f4d8-f2f94a0129f9"
   },
   "outputs": [],
   "source": [
    "print(val_perplexity_scores)"
   ]
  },
  {
   "cell_type": "code",
   "execution_count": null,
   "metadata": {
    "id": "GuCv115DF-7T"
   },
   "outputs": [],
   "source": [
    "import time\n",
    "torch.save(transformer.state_dict(), './transformer_model_svt')"
   ]
  },
  {
   "cell_type": "markdown",
   "metadata": {
    "id": "cCthY_vtAEb7"
   },
   "source": [
    "## Test and Evaluate"
   ]
  },
  {
   "cell_type": "markdown",
   "metadata": {},
   "source": [
    "### Load Model"
   ]
  },
  {
   "cell_type": "code",
   "execution_count": null,
   "metadata": {
    "colab": {
     "base_uri": "https://localhost:8080/"
    },
    "id": "ZXWbtGZ3Qw-j",
    "outputId": "7c664907-2283-4439-df1c-6418861b221d"
   },
   "outputs": [],
   "source": [
    "#from google.colab import drive\n",
    "#drive.mount('/content/drive')\n",
    "#model_path = '/content/drive/MyDrive/cs4248_team51/models/transformer_model_svt'\n",
    "model_path = './transformer_model_svt'"
   ]
  },
  {
   "cell_type": "code",
   "execution_count": null,
   "metadata": {
    "colab": {
     "base_uri": "https://localhost:8080/"
    },
    "id": "V8p3k_uLF-7X",
    "outputId": "1d01feff-6cab-49fa-d399-27e114a39cf6"
   },
   "outputs": [],
   "source": [
    "# Import model\n",
    "transformer = Seq2SeqTransformer(NUM_ENCODER_LAYERS, NUM_DECODER_LAYERS, EMB_SIZE, NHEAD, SRC_VOCAB_SIZE, TGT_VOCAB_SIZE, FFN_HID_DIM)\n",
    "transformer.load_state_dict(torch.load(model_path))\n",
    "transformer.eval()\n",
    "transformer.to(DEVICE)"
   ]
  },
  {
   "cell_type": "code",
   "execution_count": null,
   "metadata": {
    "id": "ulIU4fkJF-7X"
   },
   "outputs": [],
   "source": [
    "from torch.nn.utils.rnn import pad_sequence\n",
    "\n",
    "# helper function to club together sequential operations\n",
    "def sequential_transforms(*transforms):\n",
    "  def func(txt_input):\n",
    "      for transform in transforms:\n",
    "          txt_input = transform(txt_input)\n",
    "      return txt_input\n",
    "  return func\n",
    "\n",
    "# function to add BOS/EOS and create tensor for input sequence indices\n",
    "def tensor_transform(token_ids: List[int]):\n",
    "  return torch.cat((torch.tensor([BOS_IDX]), torch.tensor(token_ids), torch.tensor([EOS_IDX])))\n",
    "\n",
    "# ``src`` and ``tgt`` language text transforms to convert raw strings into tensors indices\n",
    "text_transform = {}\n",
    "for ln in [SRC_LANGUAGE, TGT_LANGUAGE]:\n",
    "  text_transform[ln] = sequential_transforms(token_transform[ln], #Tokenization\n",
    "                        vocab_transform[ln], #Numericalization\n",
    "                        tensor_transform) # Add BOS/EOS and create tensor\n",
    "\n",
    "# function to generate output sequence using greedy algorithm\n",
    "def greedy_decode(model, src, ctx_input, src_mask, max_len, start_symbol):\n",
    "  src = src.to(DEVICE)\n",
    "  src_mask = src_mask.to(DEVICE)\n",
    "\n",
    "  ctx_input = ctx_input.to(DEVICE)\n",
    "  ctx_encoding = model.encode_ctx(ctx_input)\n",
    "\n",
    "  memory = model.encode(src, ctx_encoding, src_mask)\n",
    "  ys = torch.ones(1, 1).fill_(start_symbol).type(torch.long).to(DEVICE)\n",
    "  for i in range(max_len-1):\n",
    "      memory = memory.to(DEVICE)\n",
    "      tgt_mask = (generate_square_subsequent_mask(ys.size(0))\n",
    "                  .type(torch.bool)).to(DEVICE)\n",
    "      out = model.decode(ys, memory, ctx_encoding, tgt_mask)\n",
    "      out = out.transpose(0, 1)\n",
    "      prob = model.generator(out[:, -1])\n",
    "      _, next_word = torch.max(prob, dim=1)\n",
    "      next_word = next_word.item()\n",
    "\n",
    "      ys = torch.cat([ys, torch.ones(1, 1).type_as(src.data).fill_(next_word)], dim=0)\n",
    "      if next_word == EOS_IDX:\n",
    "        break\n",
    "  return ys\n",
    "\n",
    "# actual function to translate input sentence into target language\n",
    "def translate(model: torch.nn.Module, src_sentence: str, ctx_input: List[str]):\n",
    "  if len(ctx_input) == 0:\n",
    "    raise RuntimeError('ctx_input must be non-empty')\n",
    "\n",
    "  model.eval()\n",
    "  src = text_transform[SRC_LANGUAGE](src_sentence).view(-1, 1)\n",
    "  num_tokens = src.shape[0]\n",
    "  src_mask = (torch.zeros(num_tokens, num_tokens)).type(torch.bool)\n",
    "\n",
    "  ctx_tensors = []\n",
    "  for ctx_sentence in ctx_input:\n",
    "    ctx_tensor = text_transform[SRC_LANGUAGE](ctx_sentence).view(-1, 1)\n",
    "    ctx_tensors.append(ctx_tensor)\n",
    "  ctx_input = torch.cat(ctx_tensors)\n",
    "\n",
    "  tgt_tokens = greedy_decode(model, src, ctx_input, src_mask, max_len=num_tokens + 5, start_symbol=BOS_IDX).flatten()\n",
    "  return \" \".join(vocab_transform[TGT_LANGUAGE].lookup_tokens(list(tgt_tokens.cpu().numpy()))).replace(\"<bos>\", \"\").replace(\"<eos>\", \"\")"
   ]
  },
  {
   "cell_type": "code",
   "execution_count": null,
   "metadata": {
    "colab": {
     "base_uri": "https://localhost:8080/"
    },
    "id": "XKu-Q2khZ1q0",
    "outputId": "29452ac8-c00b-4d13-f6af-410b6874dc91"
   },
   "outputs": [],
   "source": [
    "# San check\n",
    "\n",
    "print(translate(transformer, \"你好吗?\", [\"我不好。\"]))\n",
    "print(translate(transformer, \"我仍然非常热衷于这项运动\", [\"自己也因为缺少竞争对手而对赛车有些厌倦\"]))"
   ]
  },
  {
   "cell_type": "markdown",
   "metadata": {},
   "source": [
    "### Metrics Functions"
   ]
  },
  {
   "cell_type": "code",
   "execution_count": null,
   "metadata": {
    "id": "48axVwRwQSAn"
   },
   "outputs": [],
   "source": [
    "import json\n",
    "\n",
    "contains_proper_noun_sentences_file = open('contains_proper_noun_sentences.json')\n",
    "contains_proper_noun_sentences = json.load(contains_proper_noun_sentences_file)\n",
    "\n",
    "contains_idiom_sentences_file = open('contains_idiom_sentences.json')\n",
    "contains_idiom_sentences = json.load(contains_idiom_sentences_file)\n",
    "\n",
    "contains_polyphones_sentences_file = open('contains_polyphones_sentences.json')\n",
    "contains_polyphones_sentences = json.load(contains_polyphones_sentences_file)\n",
    "\n",
    "contains_unseen_words_sentences_file = open('contains_unseen_words_sentences.json')\n",
    "contains_unseen_words_sentences = json.load(contains_unseen_words_sentences_file)\n",
    "\n",
    "contains_missing_pronouns_sentences_file = open('contains_missing_pronouns_sentences.json')\n",
    "contains_missing_pronouns_sentences = json.load(contains_missing_pronouns_sentences_file)\n",
    "\n",
    "contains_unmatched_pronouns_sentences_file = open('contains_unmatched_pronouns_sentences.json')\n",
    "contains_unmatched_pronouns_sentences = json.load(contains_unmatched_pronouns_sentences_file)\n",
    "\n",
    "simple_sentences_file = open('simple_sentences.json')\n",
    "simple_sentences = json.load(simple_sentences_file)"
   ]
  },
  {
   "cell_type": "code",
   "execution_count": null,
   "metadata": {},
   "outputs": [],
   "source": [
    "## Bert\n",
    "\n",
    "def calc_bert_score(references, candidates):\n",
    "        \n",
    "    P, R, F1 = score(candidates, references, lang='en', verbose=True)\n",
    "\n",
    "\n",
    "    plt.hist(F1, bins=20)\n",
    "    plt.xlabel(\"score\")\n",
    "    plt.ylabel(\"counts\")\n",
    "    plt.show()\n",
    "\n",
    "    return R.mean(), P.mean(), F1.mean()"
   ]
  },
  {
   "cell_type": "code",
   "execution_count": null,
   "metadata": {},
   "outputs": [],
   "source": [
    "# bleu score\n",
    "\n",
    "def calc_bleu(references, candidates):\n",
    "    candidate_tokens_arr = []\n",
    "    for candidate in candidates:\n",
    "        candidate_tokens_arr.append(token_transform[TGT_LANGUAGE](candidate))\n",
    "    reference_tokens_arr = []\n",
    "    for reference in references:\n",
    "        reference_tokens_arr.append([token_transform[TGT_LANGUAGE](reference)])\n",
    "    b_score = corpus_bleu(reference_tokens_arr, candidate_tokens_arr)\n",
    "    return b_score\n"
   ]
  },
  {
   "cell_type": "code",
   "execution_count": null,
   "metadata": {},
   "outputs": [],
   "source": [
    "# rouge score\n",
    "\n",
    "from rouge_score import rouge_scorer\n",
    "\n",
    "def calc_rouge(references, candidates):\n",
    "    scorer = rouge_scorer.RougeScorer(['rougeL'], use_stemmer=True)\n",
    "    total_rouge1 = {'precision': 0, 'recall': 0, 'fmeasure': 0}\n",
    "    total_rouge2 = {'precision': 0, 'recall': 0, 'fmeasure': 0}\n",
    "    total_rouge3 = {'precision': 0, 'recall': 0, 'fmeasure': 0}\n",
    "    total_rouge4 = {'precision': 0, 'recall': 0, 'fmeasure': 0}\n",
    "    total_rougeL = {'precision': 0, 'recall': 0, 'fmeasure': 0}\n",
    "    num_samples = len(references)\n",
    "    for i in range(0, num_samples):\n",
    "        sample = scorer.score(references[i], candidates[i])\n",
    "\n",
    "        total_rougeL['precision'] += sample['rougeL'].precision\n",
    "        total_rougeL['recall'] += sample['rougeL'].recall\n",
    "        total_rougeL['fmeasure'] += sample['rougeL'].fmeasure\n",
    "\n",
    "    # Calculate averages by dividing each sum by the number of samples\n",
    "\n",
    "    average_rougeL = {\n",
    "        'precision': total_rougeL['precision'] / num_samples,\n",
    "        'recall': total_rougeL['recall'] / num_samples,\n",
    "        'fmeasure': total_rougeL['fmeasure'] / num_samples,\n",
    "    }\n",
    "\n",
    "    # Print or use the averages as needed\n",
    "    return average_rougeL"
   ]
  },
  {
   "cell_type": "markdown",
   "metadata": {},
   "source": [
    "### Inference"
   ]
  },
  {
   "cell_type": "code",
   "execution_count": null,
   "metadata": {},
   "outputs": [],
   "source": [
    "# Create test context\n",
    "test_context = {}\n",
    "current_sentences = []\n",
    "current_doc_id = test[0][DOC_ID]\n",
    "\n",
    "for idx, data in enumerate(test):\n",
    "  if data[DOC_ID] != current_doc_id:\n",
    "    # save\n",
    "    test_context[current_doc_id] = current_sentences\n",
    "\n",
    "    # reset\n",
    "    current_doc_id = data[DOC_ID]\n",
    "    current_sentences = []\n",
    "  current_sentences.append(data['translation'][SRC_LANGUAGE])\n",
    "\n",
    "# save the last list of tensors\n",
    "test_context[current_doc_id] = current_sentences"
   ]
  },
  {
   "cell_type": "code",
   "execution_count": null,
   "metadata": {},
   "outputs": [],
   "source": [
    "references = []\n",
    "candidates = []\n",
    "candidate_set = {}\n",
    "\n",
    "i = 0\n",
    "for m in test:\n",
    "    src_sentence = m['translation'][SRC_LANGUAGE]\n",
    "    tgt_sentence = m['translation'][TGT_LANGUAGE]\n",
    "    doc_id = m['doc_id']\n",
    "    idx = m['idx']\n",
    "    ctx_sentences = test_context[doc_id]\n",
    "    startIdx = 0\n",
    "    if idx > CONTEXT_WINDOW_SIZE:\n",
    "        startIdx = idx - CONTEXT_WINDOW_SIZE\n",
    "    ctx_sentences = test_context[doc_id][startIdx:idx]\n",
    "\n",
    "    reference_tokens = token_transform[TGT_LANGUAGE](tgt_sentence)\n",
    "    references.append(' '.join(reference_tokens))\n",
    "    candidate = translate(transformer, src_sentence, ctx_sentences)\n",
    "    candidates.append(candidate)\n",
    "    candidate_set[(doc_id, idx)] = candidate\n",
    "\n",
    "print(calc_bert_score(references, candidates))\n",
    "print(calc_bleu(references, candidates))\n",
    "print(calc_rouge(references, candidates))"
   ]
  },
  {
   "cell_type": "code",
   "execution_count": null,
   "metadata": {},
   "outputs": [],
   "source": [
    "# contains_proper_noun_sentences\n",
    "\n",
    "references = []\n",
    "candidates = []\n",
    "for m in contains_proper_noun_sentences:\n",
    "    reference_tokens = token_transform[TGT_LANGUAGE](m[TGT_LANGUAGE])\n",
    "    references.append(' '.join(reference_tokens))\n",
    "    candidate = candidate_set[(m[DOC_ID], m['idx'])]\n",
    "    if candidate == None or candidate == '':\n",
    "        raise RuntimeError((m[DOC_ID], m['idx']))\n",
    "    candidates.append(candidate_set[(m[DOC_ID], m['idx'])])\n",
    "    \n",
    "print(calc_bert_score(references, candidates))\n",
    "print(calc_bleu(references, candidates))\n",
    "print(calc_rouge(references, candidates))"
   ]
  },
  {
   "cell_type": "code",
   "execution_count": null,
   "metadata": {},
   "outputs": [],
   "source": [
    "# contains_idiom_sentences\n",
    "\n",
    "references = []\n",
    "candidates = []\n",
    "for m in contains_idiom_sentences:\n",
    "    reference_tokens = token_transform[TGT_LANGUAGE](m[TGT_LANGUAGE])\n",
    "    references.append(' '.join(reference_tokens))\n",
    "    candidate = candidate_set[(m[DOC_ID], m['idx'])]\n",
    "    if candidate == None or candidate == '':\n",
    "        raise RuntimeError((m[DOC_ID], m['idx']))\n",
    "    candidates.append(candidate_set[(m[DOC_ID], m['idx'])])\n",
    "\n",
    "    \n",
    "print(calc_bert_score(references, candidates))\n",
    "print(calc_bleu(references, candidates))\n",
    "print(calc_rouge(references, candidates))"
   ]
  },
  {
   "cell_type": "code",
   "execution_count": null,
   "metadata": {},
   "outputs": [],
   "source": [
    "# contains_polyphones_sentences\n",
    "\n",
    "references = []\n",
    "candidates = []\n",
    "for m in contains_polyphones_sentences:\n",
    "    reference_tokens = token_transform[TGT_LANGUAGE](m[TGT_LANGUAGE])\n",
    "    references.append(' '.join(reference_tokens))\n",
    "    candidate = candidate_set[(m[DOC_ID], m['idx'])]\n",
    "    if candidate == None or candidate == '':\n",
    "        raise RuntimeError((m[DOC_ID], m['idx']))\n",
    "    candidates.append(candidate_set[(m[DOC_ID], m['idx'])])\n",
    "\n",
    "    \n",
    "print(calc_bert_score(references, candidates))\n",
    "print(calc_bleu(references, candidates))\n",
    "print(calc_rouge(references, candidates))"
   ]
  },
  {
   "cell_type": "code",
   "execution_count": null,
   "metadata": {},
   "outputs": [],
   "source": [
    "# contains_unseen_words_sentences\n",
    "\n",
    "references = []\n",
    "candidates = []\n",
    "for m in contains_unseen_words_sentences:\n",
    "    reference_tokens = token_transform[TGT_LANGUAGE](m[TGT_LANGUAGE])\n",
    "    references.append(' '.join(reference_tokens))\n",
    "    candidate = candidate_set[(m[DOC_ID], m['idx'])]\n",
    "    if candidate == None or candidate == '':\n",
    "        raise RuntimeError((m[DOC_ID], m['idx']))\n",
    "    candidates.append(candidate_set[(m[DOC_ID], m['idx'])])\n",
    "\n",
    "    \n",
    "print(calc_bert_score(references, candidates))\n",
    "print(calc_bleu(references, candidates))\n",
    "print(calc_rouge(references, candidates))"
   ]
  },
  {
   "cell_type": "code",
   "execution_count": null,
   "metadata": {},
   "outputs": [],
   "source": [
    "# contains_missing_pronouns_sentences\n",
    "\n",
    "references = []\n",
    "candidates = []\n",
    "for m in contains_missing_pronouns_sentences:\n",
    "    reference_tokens = token_transform[TGT_LANGUAGE](m[TGT_LANGUAGE])\n",
    "    references.append(' '.join(reference_tokens))\n",
    "    candidate = candidate_set[(m[DOC_ID], m['idx'])]\n",
    "    if candidate == None or candidate == '':\n",
    "        raise RuntimeError((m[DOC_ID], m['idx']))\n",
    "    candidates.append(candidate_set[(m[DOC_ID], m['idx'])])\n",
    "\n",
    "    \n",
    "print(calc_bert_score(references, candidates))\n",
    "print(calc_bleu(references, candidates))\n",
    "print(calc_rouge(references, candidates))"
   ]
  },
  {
   "cell_type": "code",
   "execution_count": null,
   "metadata": {},
   "outputs": [],
   "source": [
    "# contains_unmatched_pronouns_sentences\n",
    "\n",
    "references = []\n",
    "candidates = []\n",
    "for m in contains_unmatched_pronouns_sentences:\n",
    "    reference_tokens = token_transform[TGT_LANGUAGE](m[TGT_LANGUAGE])\n",
    "    references.append(' '.join(reference_tokens))\n",
    "    candidate = candidate_set[(m[DOC_ID], m['idx'])]\n",
    "    if candidate == None or candidate == '':\n",
    "        raise RuntimeError((m[DOC_ID], m['idx']))\n",
    "    candidates.append(candidate_set[(m[DOC_ID], m['idx'])])\n",
    "\n",
    "    \n",
    "print(calc_bert_score(references, candidates))\n",
    "print(calc_bleu(references, candidates))\n",
    "print(calc_rouge(references, candidates))"
   ]
  },
  {
   "cell_type": "code",
   "execution_count": null,
   "metadata": {},
   "outputs": [],
   "source": [
    "# simple_sentences\n",
    "\n",
    "references = []\n",
    "candidates = []\n",
    "for m in simple_sentences:\n",
    "    reference_tokens = token_transform[TGT_LANGUAGE](m[TGT_LANGUAGE])\n",
    "    references.append(' '.join(reference_tokens))\n",
    "    candidate = candidate_set[(m[DOC_ID], m['idx'])]\n",
    "    if candidate == None or candidate == '':\n",
    "        raise RuntimeError((m[DOC_ID], m['idx']))\n",
    "    candidates.append(candidate_set[(m[DOC_ID], m['idx'])])\n",
    "\n",
    "    \n",
    "print(calc_bert_score(references, candidates))\n",
    "print(calc_bleu(references, candidates))\n",
    "print(calc_rouge(references, candidates))"
   ]
  },
  {
   "cell_type": "code",
   "execution_count": null,
   "metadata": {},
   "outputs": [],
   "source": []
  }
 ],
 "metadata": {
  "accelerator": "GPU",
  "colab": {
   "gpuType": "T4",
   "provenance": [],
   "toc_visible": true
  },
  "kernelspec": {
   "display_name": "Python 3 (ipykernel)",
   "language": "python",
   "name": "python3"
  },
  "language_info": {
   "codemirror_mode": {
    "name": "ipython",
    "version": 3
   },
   "file_extension": ".py",
   "mimetype": "text/x-python",
   "name": "python",
   "nbconvert_exporter": "python",
   "pygments_lexer": "ipython3",
   "version": "3.11.2"
  }
 },
 "nbformat": 4,
 "nbformat_minor": 4
}
